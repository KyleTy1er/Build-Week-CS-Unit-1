{
 "cells": [
  {
   "cell_type": "code",
   "execution_count": null,
   "metadata": {},
   "outputs": [],
   "source": [
    "# PART 1:\n",
    "\n",
    "# Your algorithm, implemented as a Python class, should have the following methods: fit and predict. \n",
    "# You are only allowed to use base Python, numpy, and scipy for the implementation of the core algorithm of your choice. \n",
    "# (For visualization and analysis, you can use other libraries.) You may reference any outside materials that you need, \n",
    "# but copying and pasting another open-source implementation is strictly prohibited.\n",
    "\n",
    "# You'll then use your implementation on an appropriate set of data and compare the results \n",
    "# that you got from your implementation against the results yielded by the versions in the sklearn library."
   ]
  },
  {
   "cell_type": "code",
   "execution_count": null,
   "metadata": {},
   "outputs": [],
   "source": [
    "# PART 2:\n",
    "\n",
    "# Your algorithm, implemented as a Python class, should have the following methods: fit and predict. \n",
    "# You are only allowed to use base Python, numpy, and scipy for the implementation of the core algorithm of your choice. \n",
    "# (For visualization and analysis, you can use other libraries.) You may reference any outside materials that you need, \n",
    "# but copying and pasting another open-source implementation is strictly prohibited.\n",
    "\n",
    "# You'll then use your implementation on an appropriate set of data and compare the results \n",
    "# that you got from your implementation against the results yielded by the versions in the sklearn library."
   ]
  },
  {
   "cell_type": "code",
   "execution_count": 1,
   "metadata": {},
   "outputs": [
    {
     "output_type": "execute_result",
     "data": {
      "text/plain": "   sepal_length  sepal_width  petal_length  petal_width        class\n0           5.1          3.5           1.4          0.2  Iris-setosa\n1           4.9          3.0           1.4          0.2  Iris-setosa\n2           4.7          3.2           1.3          0.2  Iris-setosa\n3           4.6          3.1           1.5          0.2  Iris-setosa\n4           5.0          3.6           1.4          0.2  Iris-setosa",
      "text/html": "<div>\n<style scoped>\n    .dataframe tbody tr th:only-of-type {\n        vertical-align: middle;\n    }\n\n    .dataframe tbody tr th {\n        vertical-align: top;\n    }\n\n    .dataframe thead th {\n        text-align: right;\n    }\n</style>\n<table border=\"1\" class=\"dataframe\">\n  <thead>\n    <tr style=\"text-align: right;\">\n      <th></th>\n      <th>sepal_length</th>\n      <th>sepal_width</th>\n      <th>petal_length</th>\n      <th>petal_width</th>\n      <th>class</th>\n    </tr>\n  </thead>\n  <tbody>\n    <tr>\n      <th>0</th>\n      <td>5.1</td>\n      <td>3.5</td>\n      <td>1.4</td>\n      <td>0.2</td>\n      <td>Iris-setosa</td>\n    </tr>\n    <tr>\n      <th>1</th>\n      <td>4.9</td>\n      <td>3.0</td>\n      <td>1.4</td>\n      <td>0.2</td>\n      <td>Iris-setosa</td>\n    </tr>\n    <tr>\n      <th>2</th>\n      <td>4.7</td>\n      <td>3.2</td>\n      <td>1.3</td>\n      <td>0.2</td>\n      <td>Iris-setosa</td>\n    </tr>\n    <tr>\n      <th>3</th>\n      <td>4.6</td>\n      <td>3.1</td>\n      <td>1.5</td>\n      <td>0.2</td>\n      <td>Iris-setosa</td>\n    </tr>\n    <tr>\n      <th>4</th>\n      <td>5.0</td>\n      <td>3.6</td>\n      <td>1.4</td>\n      <td>0.2</td>\n      <td>Iris-setosa</td>\n    </tr>\n  </tbody>\n</table>\n</div>"
     },
     "metadata": {},
     "execution_count": 1
    }
   ],
   "source": [
    "import pandas as pd\n",
    "columns = ['sepal_length', 'sepal_width', 'petal_length', 'petal_width', 'class']\n",
    "fetaset = pd.read_csv('https://raw.githubusercontent.com/jbrownlee/Datasets/master/iris.csv', names=columns)\n",
    "fetaset.head()"
   ]
  },
  {
   "cell_type": "code",
   "execution_count": null,
   "metadata": {},
   "outputs": [],
   "source": [
    "# We can calculate the straight line distance between two vectors using the Euclidean distance measure. \n",
    "# It is calculated as the square root of the sum of the squared differences between the two vectors.\n",
    "# Euclidean Distance = sqrt(sum i to N (x1_i – x2_i)^2)\n",
    "# With Euclidean distance, the smaller the value, the more similar two records will be. \n",
    "# A value of 0 means that there is no difference between two records."
   ]
  },
  {
   "cell_type": "code",
   "execution_count": null,
   "metadata": {},
   "outputs": [],
   "source": [
    "# Euclidean distance tells us how far apart two points on a plane are"
   ]
  },
  {
   "cell_type": "code",
   "execution_count": 2,
   "metadata": {},
   "outputs": [],
   "source": [
    "from math import sqrt\n",
    "def euclidean_distance(first_row, second_row):\n",
    "    distance = 0\n",
    "    # this assumes the last column is the target variable:\n",
    "    # from 0th column to -1 column:\n",
    "    for index in range(len(first_row)-1):\n",
    "        # calculate the ED \n",
    "        distance += (first_row[index] - second_row[index]) ** 2\n",
    "        return sqrt(distance)\n",
    "        "
   ]
  },
  {
   "cell_type": "code",
   "execution_count": 19,
   "metadata": {
    "tags": []
   },
   "outputs": [
    {
     "output_type": "stream",
     "name": "stdout",
     "text": "0.6154780879999997\n"
    }
   ],
   "source": [
    "dist = (2.7810836 - 3.396561688) ** 2\n",
    "\n",
    "print (sqrt(dist))"
   ]
  },
  {
   "cell_type": "code",
   "execution_count": 13,
   "metadata": {
    "tags": []
   },
   "outputs": [
    {
     "output_type": "stream",
     "name": "stdout",
     "text": "0.0\n1.3155942280000001\n0.6154780879999997\n1.39301341\n0.2829887200000001\n4.846447614000001\n2.551357648\n4.1415131160000005\n5.894335050999999\n4.892672866\n"
    }
   ],
   "source": [
    "dataset = [[2.7810836,2.550537003,0],\n",
    "\t[1.465489372,2.362125076,0],\n",
    "\t[3.396561688,4.400293529,0],\n",
    "\t[1.38807019,1.850220317,0],\n",
    "\t[3.06407232,3.005305973,0],\n",
    "\t[7.627531214,2.759262235,1],\n",
    "\t[5.332441248,2.088626775,1],\n",
    "\t[6.922596716,1.77106367,1],\n",
    "\t[8.675418651,-0.242068655,1],\n",
    "\t[7.673756466,3.508563011,1]]\n",
    "# here we are only calculating the ED of the 0th item of the first row\n",
    "# with the 0th item of subsequent rows. So row0[1] is left alone \n",
    "# as well as dataset[1]\n",
    "row0 = dataset[0]\n",
    "for row in dataset:\n",
    "\tdistance = euclidean_distance(row0, row)\n",
    "\tprint(distance)"
   ]
  },
  {
   "cell_type": "code",
   "execution_count": 22,
   "metadata": {},
   "outputs": [],
   "source": [
    "# Locate the most similar neighbors\n",
    "def locate_neighbors(train, test, k):\n",
    "\tdistances = list()\n",
    "\tfor train_row in train:\n",
    "\t\tdist = euclidean_distance(test, train_row)\n",
    "\t\tdistances.append((train_row, dist))\n",
    "\tdistances.sort(key=lambda tup: tup[1])\n",
    "\tneighbors = list()\n",
    "\tfor i in range(k):\n",
    "\t\tneighbors.append(distances[i][0])\n",
    "\treturn neighbors"
   ]
  },
  {
   "cell_type": "code",
   "execution_count": 23,
   "metadata": {
    "tags": []
   },
   "outputs": [
    {
     "output_type": "stream",
     "name": "stdout",
     "text": "[2.7810836, 2.550537003, 0]\n[3.06407232, 3.005305973, 0]\n[3.396561688, 4.400293529, 0]\n"
    }
   ],
   "source": [
    "neighbors = locate_neighbors(dataset, dataset[0], 3)\n",
    "for neighbor in neighbors:\n",
    "\tprint(neighbor)"
   ]
  },
  {
   "cell_type": "code",
   "execution_count": 25,
   "metadata": {
    "tags": []
   },
   "outputs": [
    {
     "output_type": "stream",
     "name": "stdout",
     "text": "Expected 0, Got 0.\n"
    }
   ],
   "source": [
    "# Make a classification prediction with neighbors\n",
    "def predict_classification(train, test, k):\n",
    "\tneighbors = get_neighbors(train, test, k)\n",
    "\toutput_values = [row[-1] for row in neighbors]\n",
    "\tprediction = max(set(output_values), key=output_values.count)\n",
    "\treturn prediction\n",
    "\n",
    "prediction = predict_classification(dataset, dataset[0], 3)\n",
    "print('Expected %d, Got %d.' % (dataset[0][-1], prediction))"
   ]
  },
  {
   "cell_type": "code",
   "execution_count": null,
   "metadata": {
    "pycharm": {
     "name": "#%%\n"
    }
   },
   "outputs": [],
   "source": [
    "Class KNN:\n",
    "    def __init__(self, k=3)\n",
    "    self.k = k\n",
    "\n",
    "\n",
    "    def euclidean_distance(first_row, second_row):\n",
    "        distance = 0\n",
    "        # this assumes the last column is the target variable:\n",
    "        # from 0th column to -1 column:\n",
    "        for index in range(len(first_row)-1):\n",
    "            # calculate the ED \n",
    "            distance += (first_row[index] - second_row[index]) ** 2\n",
    "            return sqrt(distance)\n",
    "\n",
    "    def locate_neighbors(train, test, k):\n",
    "        distances = list()\n",
    "        for train_row in train:\n",
    "            dist = euclidean_distance(test, train_row)\n",
    "            distances.append((train_row, dist))\n",
    "        distances.sort(key=lambda tup: tup[1])\n",
    "        neighbors = list()\n",
    "        for i in range(k):\n",
    "            neighbors.append(distances[i][0])\n",
    "        return neighbors\n",
    "\n",
    "    # Make a classification prediction with neighbors\n",
    "    def knn_classifier(train, test, k):\n",
    "        neighbors = locate_neighbors(train, test, k)\n",
    "        output_values = [row[-1] for row in neighbors]\n",
    "        prediction = max(set(output_values), key=output_values.count)\n",
    "        return prediction\n",
    "\n",
    "\n",
    "        "
   ]
  }
 ],
 "metadata": {
  "kernelspec": {
   "display_name": "Python 3.7.6 64-bit ('base': conda)",
   "language": "python",
   "name": "python37664bitbasecondadd2447fd11dc42509ab85145dc47aedb"
  },
  "language_info": {
   "codemirror_mode": {
    "name": "ipython",
    "version": 3
   },
   "file_extension": ".py",
   "mimetype": "text/x-python",
   "name": "python",
   "nbconvert_exporter": "python",
   "pygments_lexer": "ipython3",
   "version": "3.7.6-final"
  }
 },
 "nbformat": 4,
 "nbformat_minor": 4
}